{
 "cells": [
  {
   "cell_type": "code",
   "execution_count": 15,
   "id": "acf4f5e4-197a-4655-a96c-944827c0a383",
   "metadata": {},
   "outputs": [
    {
     "name": "stdout",
     "output_type": "stream",
     "text": [
      "Lista original:  [29, 10, 14, 37, 13]\n",
      "Lista ordenada:  [10, 13, 14, 29, 37]\n",
      "Maior elemento: 37\n"
     ]
    }
   ],
   "source": [
    "#Prova 02 - AED2 - CDN FATEC\n",
    "\n",
    "def selection_sort(arr):\n",
    "    for i in range(len(arr)):\n",
    "        min_idx = i\n",
    "        for j in range(i + 1, len(arr)):\n",
    "            if arr[j] < arr[min_idx]:\n",
    "                min_idx = j\n",
    "        arr[i], arr[min_idx] = arr[min_idx], arr[i]\n",
    "    return arr\n",
    "\n",
    "def find_max(lista_ordenada):\n",
    "\n",
    "    return lista_ordenada[-1]\n",
    "\n",
    "lista = [29, 10, 14, 37, 13]\n",
    "print(\"Lista original: \", lista)\n",
    "\n",
    "sorted_list = selection_sort(lista)\n",
    "print(\"Lista ordenada: \", sorted_list)\n",
    "\n",
    "print(\"Maior elemento:\", find_max(sorted_list))"
   ]
  },
  {
   "cell_type": "code",
   "execution_count": null,
   "id": "f608ff53-5bc8-4605-be32-ea19e2f80b20",
   "metadata": {},
   "outputs": [],
   "source": []
  }
 ],
 "metadata": {
  "kernelspec": {
   "display_name": "Python 3 (ipykernel)",
   "language": "python",
   "name": "python3"
  },
  "language_info": {
   "codemirror_mode": {
    "name": "ipython",
    "version": 3
   },
   "file_extension": ".py",
   "mimetype": "text/x-python",
   "name": "python",
   "nbconvert_exporter": "python",
   "pygments_lexer": "ipython3",
   "version": "3.12.4"
  }
 },
 "nbformat": 4,
 "nbformat_minor": 5
}
